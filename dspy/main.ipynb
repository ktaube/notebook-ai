{
 "cells": [
  {
   "cell_type": "code",
   "execution_count": 1,
   "id": "f703701e-7d82-4f98-839a-37667823ccdf",
   "metadata": {},
   "outputs": [
    {
     "data": {
      "text/plain": [
       "True"
      ]
     },
     "execution_count": 1,
     "metadata": {},
     "output_type": "execute_result"
    }
   ],
   "source": [
    "import dotenv\n",
    "dotenv.load_dotenv()"
   ]
  },
  {
   "cell_type": "code",
   "execution_count": 3,
   "id": "d11bf1fa-7ef0-4cf5-8950-29d213c22c31",
   "metadata": {},
   "outputs": [
    {
     "name": "stderr",
     "output_type": "stream",
     "text": [
      "Downloading readme: 100%|██████████| 7.94k/7.94k [00:00<00:00, 20.1MB/s]\n",
      "Downloading data: 100%|██████████| 2.31M/2.31M [00:00<00:00, 5.93MB/s]\n",
      "Downloading data: 100%|██████████| 419k/419k [00:00<00:00, 1.97MB/s]]\n",
      "Downloading data files: 100%|██████████| 2/2 [00:00<00:00,  3.14it/s]\n",
      "Extracting data files: 100%|██████████| 2/2 [00:00<00:00, 975.65it/s]\n",
      "Generating train split: 100%|██████████| 7473/7473 [00:00<00:00, 166069.90 examples/s]\n",
      "Generating test split: 100%|██████████| 1319/1319 [00:00<00:00, 453243.24 examples/s]\n",
      "100%|██████████| 7473/7473 [00:00<00:00, 37271.06it/s]\n",
      "100%|██████████| 1319/1319 [00:00<00:00, 77180.34it/s]\n"
     ]
    }
   ],
   "source": [
    "import dspy\n",
    "from dspy.datasets.gsm8k import GSM8K, gsm8k_metric\n",
    "\n",
    "# Set up the LM\n",
    "turbo = dspy.OpenAI(model='gpt-3.5-turbo-instruct', max_tokens=250)\n",
    "dspy.settings.configure(lm=turbo)\n",
    "\n",
    "# Load math questions from the GSM8K dataset\n",
    "gms8k = GSM8K()\n",
    "gsm8k_trainset, gsm8k_devset = gms8k.train[:10], gms8k.dev[:10]"
   ]
  },
  {
   "cell_type": "code",
   "execution_count": 4,
   "id": "40843488",
   "metadata": {},
   "outputs": [],
   "source": [
    "class CoT(dspy.Module):\n",
    "    def __init__(self):\n",
    "        super().__init__()\n",
    "        self.prog = dspy.ChainOfThought(\"question -> answer\")\n",
    "    \n",
    "    def forward(self, question):\n",
    "        return self.prog(question=question)"
   ]
  },
  {
   "cell_type": "code",
   "execution_count": null,
   "id": "7129f6fe",
   "metadata": {},
   "outputs": [],
   "source": []
  }
 ],
 "metadata": {
  "kernelspec": {
   "display_name": "Python 3 (ipykernel)",
   "language": "python",
   "name": "python3"
  },
  "language_info": {
   "codemirror_mode": {
    "name": "ipython",
    "version": 3
   },
   "file_extension": ".py",
   "mimetype": "text/x-python",
   "name": "python",
   "nbconvert_exporter": "python",
   "pygments_lexer": "ipython3",
   "version": "3.11.7"
  }
 },
 "nbformat": 4,
 "nbformat_minor": 5
}
